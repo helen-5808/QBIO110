{
 "cells": [
  {
   "cell_type": "markdown",
   "id": "21996853",
   "metadata": {},
   "source": [
    "# Helen Chen\n",
    "\n",
    "## 1. Explain how you would determine the numerical value of e? \n",
    "> I can find the closest approximation for x in which $\\int_1^x\\frac{1}{t}dt=1$ through riemann sums. \n",
    "> The following function calculates a left or right riemann sum estimation of the area under 1/x:"
   ]
  },
  {
   "cell_type": "code",
   "execution_count": 1,
   "id": "078d9ce1",
   "metadata": {},
   "outputs": [],
   "source": [
    "def riemann_sum(sumfrom: float, sumto: float, slices: int, leftsum: bool) -> float: \n",
    "    \"\"\"\n",
    "    This function returns the left or right riemann sum of 1/x from a specified starting point to a specified endpoint using a specified subinterval\n",
    "\n",
    "    Args:\n",
    "        sumfrom: the starting point of the riemann sum\n",
    "        sumto: the endpoint of the riemann sum\n",
    "        slices: the integer number of subintervals or rectangles the riemann sum will use\n",
    "        leftsum: if true, the returns a left riemann sum. Otherwise returns a right riemann sum. \n",
    "\n",
    "    Returns:\n",
    "        A riemann sum approximation of the area under 1/x \n",
    "    \"\"\"\n",
    "\n",
    "    subinterval: float = (sumto - sumfrom)/slices\n",
    "    sum: float = 0\n",
    "    curr_endpoint: float = sumfrom\n",
    "\n",
    "    # if a left riemann sum, adds the left vertex of the first rectangle to the sum\n",
    "    if leftsum: \n",
    "        sum += (1/curr_endpoint)*subinterval\n",
    "\n",
    "    # sums through the function\n",
    "    for _ in range(slices-1): \n",
    "        curr_endpoint += subinterval\n",
    "        sum += (1/curr_endpoint)*subinterval\n",
    "\n",
    "    # if a right riemann sum, adds the right vertex of the last rectangle to the sum\n",
    "    if not leftsum: \n",
    "        curr_endpoint += subinterval\n",
    "        sum += (1/curr_endpoint)*subinterval\n",
    "    \n",
    "    return sum"
   ]
  },
  {
   "cell_type": "markdown",
   "id": "a164d3db",
   "metadata": {},
   "source": [
    "> Trying a few different endpoints for a right riemann sum approximation shows that 2.8 is a close estimation for e"
   ]
  },
  {
   "cell_type": "code",
   "execution_count": 2,
   "id": "551cf5f1",
   "metadata": {},
   "outputs": [
    {
     "name": "stdout",
     "output_type": "stream",
     "text": [
      "The right Riemann sum of 1/x with a subinterval of 0.1 from 1 to the following: \n",
      "sum from 1 to 2.5:  0.8869899237852525\n",
      "sum from 1 to 2.6:  0.925451462246791\n",
      "sum from 1 to 2.7:  0.962488499283828\n",
      "sum from 1 to 2.8:  0.9982027849981137\n",
      "sum from 1 to 2.9:  1.0326855436188034\n",
      "sum from 1 to 3.8:  0.8148249415117709\n"
     ]
    }
   ],
   "source": [
    "print(\"The right Riemann sum of 1/x with a subinterval of 0.1 from 1 to the following: \")\n",
    "print(\"sum from 1 to 2.5: \", riemann_sum(1, 2.5, 15, False))\n",
    "print(\"sum from 1 to 2.6: \", riemann_sum(1, 2.6, 16, False))\n",
    "print(\"sum from 1 to 2.7: \", riemann_sum(1, 2.7, 17, False))\n",
    "print(\"sum from 1 to 2.8: \", riemann_sum(1, 2.8, 18, False))\n",
    "print(\"sum from 1 to 2.9: \", riemann_sum(1, 2.9, 19, False))\n",
    "print(\"sum from 1 to 3.8: \", riemann_sum(1, 2.3, 20, False))"
   ]
  },
  {
   "cell_type": "markdown",
   "id": "ece1e64f",
   "metadata": {},
   "source": [
    "## Show that $0.96 < \\ln 2.8 < 1.1$"
   ]
  },
  {
   "cell_type": "code",
   "execution_count": 3,
   "id": "07fc82e6",
   "metadata": {},
   "outputs": [
    {
     "name": "stdout",
     "output_type": "stream",
     "text": [
      "The left riemann sum shows that ln(2.8) is less than 1.062488499283828\n",
      "The right riemann sum shows that ln(2.8) is greater than 0.9982027849981137\n"
     ]
    }
   ],
   "source": [
    "# As a left riemann sum always overestimates a decreasing function, below shows that ln(2.8) < 1.06\n",
    "\n",
    "# calculates the left riemann sum of 1/x from 1 to 2.8 with a subinterval of 0.1 (18 rectangles)\n",
    "lsum: float = riemann_sum(1, 2.8, 18, True) # -----> outputs 1.062488499283828\n",
    "\n",
    "\n",
    "# As a right riemann sum always underestimates a decreasing function, below shows that ln(2.8) < 0.998\n",
    "\n",
    "# calculates the right riemann sum of from 1 1/x to 2.8 with a subinterval of 0.1 (18 rectangles)\n",
    "rsum: float = riemann_sum(1, 2.8, 18, False) # -----> outputs 0.9982027849981137\n",
    "\n",
    "print(\"The left riemann sum shows that ln(2.8) is less than\", lsum)\n",
    "print(\"The right riemann sum shows that ln(2.8) is greater than\", rsum)\n"
   ]
  },
  {
   "cell_type": "markdown",
   "id": "d2d08f1d",
   "metadata": {},
   "source": [
    "## 2a. Show that $A_{ab} = A_{cd}$ if $\\frac{a}{b} = \\frac{c}{d}$"
   ]
  },
  {
   "cell_type": "code",
   "execution_count": 4,
   "id": "eb0022d5",
   "metadata": {},
   "outputs": [
    {
     "name": "stdout",
     "output_type": "stream",
     "text": [
      "a = 3\n",
      "b = 22\n",
      "c = 5\n",
      "d = 36.666666666666664\n",
      "    A_ab = 1.9781270858467046\n",
      "    A_cd = 1.978127085846702\n",
      "\n",
      "a = 9\n",
      "b = 28\n",
      "c = 7\n",
      "d = 21.77777777777778\n",
      "    A_ab = 1.1312193165841662\n",
      "    A_cd = 1.1312193165841673\n",
      "\n",
      "a = 4\n",
      "b = 30\n",
      "c = 3\n",
      "d = 22.5\n",
      "    A_ab = 2.004120841363128\n",
      "    A_cd = 2.004120841363128\n",
      "\n",
      "a = 7\n",
      "b = 23\n",
      "c = 9\n",
      "d = 29.571428571428573\n",
      "    A_ab = 1.184630553933806\n",
      "    A_cd = 1.1846305539338047\n",
      "\n"
     ]
    }
   ],
   "source": [
    "from random import randint\n",
    "\n",
    "for _ in range(4):\n",
    "    a = randint(1, 10) # generates a random number a between 1-10 inclusive\n",
    "    b = randint(a+1, 30) # generates a random number b greater than a, max 30\n",
    "\n",
    "    c = randint(1, 10) # generates a random number c between 1-10 inclusive\n",
    "    d = c*b/a # calculates d so that a/b = c/d\n",
    "    \n",
    "    # calculates the number of rectangles/slices to achieve a subinterval of 0.1\n",
    "    ab_interval = (b-a)/0.1 \n",
    "    cd_interval = (c-d)/0.1\n",
    "\n",
    "    \n",
    "    print(\"a =\", a)\n",
    "    print(\"b =\", b)\n",
    "    print(\"c =\", c)\n",
    "    print(\"d =\", d)\n",
    "    print(\"    A_ab =\", riemann_sum(float(a), float(b), int(ab_interval), False))\n",
    "    print(\"    A_cd =\", riemann_sum(float(c), float(d), int(ab_interval), False))\n",
    "    print()"
   ]
  },
  {
   "cell_type": "markdown",
   "id": "511b108d",
   "metadata": {},
   "source": [
    "## 2b. show that $A_{1a} + A_{1b} = A_{1ab}$"
   ]
  },
  {
   "cell_type": "code",
   "execution_count": 5,
   "id": "0b130cb2",
   "metadata": {},
   "outputs": [
    {
     "name": "stdout",
     "output_type": "stream",
     "text": [
      "a = 10\n",
      "b = 18\n",
      "    A_1a = 2.3021351754940595\n",
      "    A_1b = 2.889899618750141\n",
      "    A_1a+A_1b = 5.192034794244201\n",
      "    A_1ab = 5.192459711997503\n",
      "\n",
      "a = 11\n",
      "b = 27\n",
      "    A_1a = 2.397440809988471\n",
      "    A_1b = 3.295355467741845\n",
      "    A_1a+A_1b = 5.6927962777303165\n",
      "    A_1ab = 5.693233905634132\n",
      "\n",
      "a = 18\n",
      "b = 6\n",
      "    A_1a = 2.889899618750141\n",
      "    A_1b = 1.7913428835799607\n",
      "    A_1a+A_1b = 4.681242502330102\n",
      "    A_1ab = 4.681635940079946\n",
      "\n",
      "a = 23\n",
      "b = 24\n",
      "    A_1a = 3.1350160382354235\n",
      "    A_1b = 3.17757474686996\n",
      "    A_1a+A_1b = 6.3125907851053835\n",
      "    A_1ab = 6.313049035408669\n",
      "\n"
     ]
    }
   ],
   "source": [
    "from random import randint\n",
    "\n",
    "for _ in range(4):\n",
    "\n",
    "    # generates random numbers a and b between 2-30 inclusive\n",
    "    a = randint(2, 30)\n",
    "    b = randint(2, 30)\n",
    "    ab = a*b\n",
    "    \n",
    "    # calculates the number of rectangles/slices to achieve a subinterval of 0.001\n",
    "    a_interval = (a-1)/0.001 \n",
    "    b_interval = (b-1)/0.001\n",
    "    ab_interval = (ab-1)/0.001\n",
    "\n",
    "    # calculates right riemann sum approximations for A_1a,A_1b, and A_1ab\n",
    "    A_1a = riemann_sum(float(1), float(a), int(a_interval), False)\n",
    "    A_1b = riemann_sum(float(1), float(b), int(b_interval), False)\n",
    "    A_1ab = riemann_sum(float(1), float(ab), int(ab_interval), False)\n",
    "    \n",
    "    print(\"a =\", a)\n",
    "    print(\"b =\", b)\n",
    "    print(\"    A_1a =\", A_1a)\n",
    "    print(\"    A_1b =\", A_1b)\n",
    "    print(\"    A_1a+A_1b =\", A_1a+A_1b)\n",
    "    print(\"    A_1ab =\", A_1ab)\n",
    "    print()"
   ]
  }
 ],
 "metadata": {
  "kernelspec": {
   "display_name": "QBIO110",
   "language": "python",
   "name": "python3"
  },
  "language_info": {
   "codemirror_mode": {
    "name": "ipython",
    "version": 3
   },
   "file_extension": ".py",
   "mimetype": "text/x-python",
   "name": "python",
   "nbconvert_exporter": "python",
   "pygments_lexer": "ipython3",
   "version": "3.13.5"
  }
 },
 "nbformat": 4,
 "nbformat_minor": 5
}
