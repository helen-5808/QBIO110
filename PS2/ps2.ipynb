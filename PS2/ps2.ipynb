{
 "cells": [
  {
   "cell_type": "markdown",
   "id": "6e8e93c3",
   "metadata": {},
   "source": [
    "# PS2 Helen Chen"
   ]
  }
 ],
 "metadata": {
  "kernelspec": {
   "display_name": "QBIO110",
   "language": "python",
   "name": "python3"
  },
  "language_info": {
   "name": "python",
   "version": "3.13.5"
  }
 },
 "nbformat": 4,
 "nbformat_minor": 5
}
