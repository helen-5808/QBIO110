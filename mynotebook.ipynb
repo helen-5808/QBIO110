{
 "cells": [
  {
   "cell_type": "markdown",
   "id": "411c611f",
   "metadata": {},
   "source": [
    "# Hello! This is my new notebook"
   ]
  },
  {
   "cell_type": "code",
   "execution_count": 4,
   "id": "22359cdd",
   "metadata": {},
   "outputs": [
    {
     "name": "stdout",
     "output_type": "stream",
     "text": [
      "[1 2 3 5 4]\n"
     ]
    }
   ],
   "source": [
    "import numpy\n",
    "\n",
    "arr = numpy.array([1, 2, 3, 5, 4])\n",
    "\n",
    "print(arr)"
   ]
  },
  {
   "cell_type": "code",
   "execution_count": 3,
   "id": "5350567d",
   "metadata": {},
   "outputs": [
    {
     "data": {
      "text/plain": [
       "True"
      ]
     },
     "execution_count": 3,
     "metadata": {},
     "output_type": "execute_result"
    }
   ],
   "source": [
    "str1: str = \"AAA\"\n",
    "str2: str = \"GGG\"\n",
    "str3: str = \" \"\n",
    "\n",
    "psol: str = \"AAAGGGaaaggg AAAGGGaaaggg AAAGGGaaaggg\"\n",
    "msol: str = str1 + str2 + str1.lower() + str2.lower() + str3 + str1 + str2 + str1.lower() + str2.lower() + str3 + str1 + str2 + str1.lower() + str2.lower()\n",
    "\n",
    "msol == psol"
   ]
  }
 ],
 "metadata": {
  "kernelspec": {
   "display_name": "Python 3",
   "language": "python",
   "name": "python3"
  },
  "language_info": {
   "codemirror_mode": {
    "name": "ipython",
    "version": 3
   },
   "file_extension": ".py",
   "mimetype": "text/x-python",
   "name": "python",
   "nbconvert_exporter": "python",
   "pygments_lexer": "ipython3",
   "version": "3.12.1"
  }
 },
 "nbformat": 4,
 "nbformat_minor": 5
}
