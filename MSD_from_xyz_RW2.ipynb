{
 "cells": [
  {
   "cell_type": "code",
   "execution_count": null,
   "metadata": {},
   "outputs": [],
   "source": []
  },
  {
   "cell_type": "code",
   "execution_count": 12,
   "metadata": {
    "tags": []
   },
   "outputs": [],
   "source": [
    "# First, we will import two modules that are very useful for file handing.\n",
    "import os, sys\n",
    "import glob\n",
    "\n",
    "import warnings\n",
    "\n",
    "# Import the other useful modules\n",
    "import numpy as np\n",
    "\n",
    "# Load the plotting utility matplotlib with an alias plt.\n",
    "import matplotlib.pyplot as plt\n",
    "\n",
    "# The following line allows for plots to be rendered in this notebook. \n",
    "%matplotlib inline\n",
    "\n",
    "import seaborn as sns\n",
    "# Set seaborn defaults\n",
    "sns.set()"
   ]
  },
  {
   "cell_type": "markdown",
   "metadata": {},
   "source": [
    "Read coordinates from xyz file"
   ]
  },
  {
   "cell_type": "code",
   "execution_count": 13,
   "metadata": {
    "tags": []
   },
   "outputs": [],
   "source": [
    "def Read_trajectory_vmd(fileName, dims, nFramesEquil):\n",
    "    '''\n",
    "    XXX\n",
    "    '''\n",
    "    with open(fileName, 'r') as f:\n",
    "        fLinesAll = f.readlines()\n",
    "         \n",
    "        # get number of particles, and remove that line\n",
    "        data=fLinesAll.pop(0).strip().split()\n",
    "        nPart = int(data[0])\n",
    "        print(nPart)\n",
    "\n",
    "        #skip frames to allow equilibration\n",
    "        nLinesStart = nFramesEquil * nPart\n",
    "        fLines = fLinesAll[nLinesStart:]\n",
    "\n",
    "        # check to see how many frames, and if all are complete\n",
    "        nLines = len(fLines)\n",
    "        if nLines % nPart != 0:\n",
    "            warnings.warn(f'Read_trajectory_vmd: Incomplete frame\\n file {fileName}, nPart {nPart}, lines {nLines}')\n",
    "            \n",
    "        nFrames = nLines // nPart\n",
    "        print(f'Read_trajectory_vmd: reading file {fileName}, nPart {nPart}, frames {nFrames}')\n",
    "        \n",
    "        \n",
    "        positions = np.zeros([nFrames,nPart,dims],float)\n",
    "        counter=0\n",
    "        for frame in np.arange(nFrames):\n",
    "            for atom in np.arange(nPart):\n",
    "                data = fLines[counter].strip().split()\n",
    "                #print('d = ',data[1:dims+1])\n",
    "                positions[frame,atom,:] = data[1:dims+1]\n",
    "                counter += 1\n",
    "                \n",
    "    return(nPart, nFrames, positions)\n",
    "                \n",
    "        "
   ]
  },
  {
   "cell_type": "code",
   "execution_count": 14,
   "metadata": {
    "tags": []
   },
   "outputs": [],
   "source": [
    "def Unwrap_coordinates(positions, sideLength):\n",
    "    \"\"\"\n",
    "    XXX\n",
    "    \"\"\"\n",
    "    \n",
    "    (nFrames, nPart, dims) = positions.shape\n",
    "    \n",
    "    displacements = np.diff(positions,axis=0)\n",
    "    print('ds',displacements.shape)\n",
    "    ind = np.where(np.fabs(displacements) > 0.5*sideLength)\n",
    "    #print('ind',ind)\n",
    "    print('total displacements=',nFrames*nPart*dims, ' num to unwrap=',len(ind[0]))\n",
    "    print('maxd',np.max(displacements))\n",
    "    displacements[ind] -= np.sign(displacements[ind]) * sideLength\n",
    "    print('maxd after unwrap',np.max(displacements))\n",
    "    \n",
    "    # Sum to get unwrapped coords\n",
    "    tempArray = positions.copy()\n",
    "    tempArray[1:,:,:] = displacements\n",
    "    # sum displacements over frames\n",
    "    unwrapped_positions = np.cumsum(tempArray, axis=0)\n",
    "    \n",
    "    return(unwrapped_positions)\n",
    "    \n",
    "    \n",
    "    "
   ]
  },
  {
   "cell_type": "code",
   "execution_count": 15,
   "metadata": {
    "tags": []
   },
   "outputs": [],
   "source": [
    "def Get_msd(positions, frame_step, del0, del1):\n",
    "    \"\"\"\n",
    "    XXX\n",
    "    \"\"\"\n",
    "    (nFrames, nPart, dims) = positions.shape\n",
    "    \n",
    "    delt_array = np.arange(0,nFrames,del1) * frame_step \n",
    "    numDel = len(delt_array)\n",
    "    numAtDelt = np.zeros(numDel, int)\n",
    "    msdAtDelt = np.zeros(numDel, float)\n",
    "\n",
    "    # Could use numpy better by avoiding these loops if want to speed things up\n",
    "    #perform time average by ranging over t0's\n",
    "    for t0_ind in np.arange(0, nFrames, del0):\n",
    "        # store position at t=0\n",
    "        pos0 = positions[t0_ind,:,:]\n",
    "        #positions array indices are [nframes, nPart, dims]\n",
    "        \n",
    "        for delt_ind in np.arange(0, nFrames-t0_ind, del1):\n",
    "            # avg over all particles (dx^2+dy^2+dz^2)\n",
    "            msdAtDelt[delt_ind] += np.sum((positions[t0_ind+delt_ind,:,:]-pos0)**2) / nPart \n",
    "            numAtDelt[delt_ind] += 1\n",
    "        \n",
    "    # complete avg over t0's\n",
    "    # need to check for numAtDelt = 0?\n",
    "    msdAtDelt /= numAtDelt\n",
    "    \n",
    "    return(delt_array, msdAtDelt)\n"
   ]
  },
  {
   "cell_type": "code",
   "execution_count": 16,
   "metadata": {
    "tags": []
   },
   "outputs": [],
   "source": [
    "def Parse_filename(fName):\n",
    "    fName=fName.rstrip('.xyz')\n",
    "    print(fName)\n",
    "    threeTuple = fName.rpartition('_pB')\n",
    "    pBias_str = threeTuple[2]\n",
    "    \n",
    "    return (pBias_str)\n",
    "    \n",
    "    "
   ]
  },
  {
   "cell_type": "code",
   "execution_count": 17,
   "metadata": {
    "tags": []
   },
   "outputs": [
    {
     "data": {
      "text/plain": [
       "'/workspaces/QBIO110'"
      ]
     },
     "execution_count": 17,
     "metadata": {},
     "output_type": "execute_result"
    }
   ],
   "source": [
    "pwd"
   ]
  },
  {
   "cell_type": "code",
   "execution_count": 18,
   "metadata": {
    "tags": []
   },
   "outputs": [
    {
     "name": "stdout",
     "output_type": "stream",
     "text": [
      "files to read are\n",
      "[]\n"
     ]
    }
   ],
   "source": [
    "\n",
    "\n",
    "# Parameters from MD code\n",
    "dims = 3\n",
    "timestep = 1\n",
    "save_freq = 1\n",
    "frame_step = save_freq * timestep\n",
    "# skip frames for equilibrate\n",
    "nFramesSkip = 0\n",
    "\n",
    "\n",
    "# Read all files in directory matching filename format\n",
    "fNameList = glob.glob('traj*.xyz')\n",
    "print('files to read are')\n",
    "print(fNameList)\n",
    "\n",
    "delt=dict()\n",
    "msd=dict()\n",
    "\n",
    "for fName in fNameList:\n",
    "\n",
    "    (pBias_str) = Parse_filename(fName)\n",
    "    key=pBias_str\n",
    "\n",
    "    print('reading file ',fName)\n",
    "    print(f'pBias={pBias_str}')\n",
    "\n",
    "\n",
    "    (nPart, nFrames, positions) = Read_trajectory_vmd(fName, dims, nFramesSkip)\n",
    "    print(positions.shape)\n",
    "\n",
    "    #don't need to unwrap\n",
    "    #print('box_width=',box_width)\n",
    "    #unwrapped_positions = Unwrap_coordinates(positions, box_width)\n",
    "\n",
    "    # Check to make sure this worked\n",
    "    #waste = Unwrap_coordinates(unwrapped_positions, box_width)\n",
    "\n",
    "    (delt[key], msd[key]) = Get_msd(positions, frame_step, 1, 1)\n",
    "\n",
    "\n",
    "\n",
    "\n"
   ]
  },
  {
   "cell_type": "code",
   "execution_count": 19,
   "metadata": {
    "tags": []
   },
   "outputs": [
    {
     "name": "stderr",
     "output_type": "stream",
     "text": [
      "/tmp/ipykernel_4430/3047354157.py:13: UserWarning: No artists with labels found to put in legend.  Note that artists whose label start with an underscore are ignored when legend() is called with no argument.\n",
      "  plt.legend();\n"
     ]
    },
    {
     "data": {
      "image/png": "[encoded data removed]",
      "text/plain": [
       "<Figure size 640x480 with 1 Axes>"
      ]
     },
     "metadata": {},
     "output_type": "display_data"
    }
   ],
   "source": [
    "for key in sorted(delt.keys()):\n",
    "    deltArray = delt[key]\n",
    "    msdArray = msd[key]\n",
    "    plt.plot(deltArray,msdArray,label=r'$p_\\mathrm{{bias}}={pB:s}$'.format(pB=key))\n",
    "    \n",
    "plt.xlabel(r'time, t / $t_0$')\n",
    "plt.ylabel(r'$r^2(t)/\\sigma^2$')\n",
    "plt.xlim(0,50)\n",
    "plt.ylim(0,1000)\n",
    "#ax=plt.gca()\n",
    "#ax.set_ylim(top=20)\n",
    "#plt.ylim(0,3)\n",
    "plt.legend();\n",
    "plt.show()\n",
    "plt.savefig('MSD_for_random_walk.pdf')\n"
   ]
  },
  {
   "cell_type": "markdown",
   "metadata": {},
   "source": [
    "#### Fit to model for persistent random walk\n",
    "\n",
    "$\\def\\pBias{p_\\mathrm{bias}}$\n",
    "let $\\rho=\\frac{\\langle x(1)\\cdot x(0)\\rangle>}{a^2}=2\\pBias-1$; i.e., the correlation between successive steps, with $x(t)$ the step **vector** at time $t$ and $a$ the mean step length.\n",
    "\n",
    "Then, the correlation function  is defined as $C(m)=\\exp(-m / \\tau)$ where $m$ is number of steps and $\\tau$ is the correlation time (in number of steps). Further, see that $C(m)=\\rho^m$, so that $\\tau=\\frac{1}{-\\log \\rho}=-\\frac{1}{\\log\\left(2\\pBias-1\\right)}.$\n",
    "\n",
    "\n",
    "Persistent Random Walk scaling:\n",
    "\n",
    "$\\langle R^2(t) \\rangle = 2Dt +  2 D \\tau\\left(e^{-t/\\tau}-1\\right)$\n",
    "\n",
    "However, in this equation $D$ depends on $\\pBias$. Note that the mean time of a run is $\\tau$ and the mean length of a run is $v_0 \\tau$ with $v_0=a/\\Delta t$ the *speed* of the walk during its runs, with $a$ the individual step length and $\\Delta t$ the timestep. Thus, $D=(v_0 \\tau)^2/\\tau=v_0^2\\tau$, so\n",
    "\n",
    "$\\langle R^2(t) \\rangle = 2 v_0^2 \\tau t +  2 v_0^2 \\tau^2\\left(e^{-t/\\tau}-1\\right)$"
   ]
  },
  {
   "cell_type": "code",
   "execution_count": 20,
   "metadata": {
    "tags": []
   },
   "outputs": [],
   "source": [
    "def R2RW(t, dims, D, tau):\n",
    "    return(2*dims*D * ( t +  tau * (np.exp(-t/tau) - 1)))\n",
    "def R2Ballistic(t, dims, v0):\n",
    "    return(dims * v0**2 * t**2)"
   ]
  },
  {
   "cell_type": "code",
   "execution_count": 21,
   "metadata": {
    "tags": []
   },
   "outputs": [
    {
     "data": {
      "text/plain": [
       "dict_keys([])"
      ]
     },
     "execution_count": 21,
     "metadata": {},
     "output_type": "execute_result"
    }
   ],
   "source": [
    "delt.keys()"
   ]
  },
  {
   "cell_type": "code",
   "execution_count": 24,
   "metadata": {
    "tags": []
   },
   "outputs": [
    {
     "ename": "KeyError",
     "evalue": "'0.9'",
     "output_type": "error",
     "traceback": [
      "\u001b[0;31m---------------------------------------------------------------------------\u001b[0m",
      "\u001b[0;31mKeyError\u001b[0m                                  Traceback (most recent call last)",
      "Cell \u001b[0;32mIn[24], line 3\u001b[0m\n\u001b[1;32m      1\u001b[0m key \u001b[38;5;241m=\u001b[39m \u001b[38;5;124m'\u001b[39m\u001b[38;5;124m0.9\u001b[39m\u001b[38;5;124m'\u001b[39m\n\u001b[0;32m----> 3\u001b[0m deltArray \u001b[38;5;241m=\u001b[39m delt[key]\n\u001b[1;32m      4\u001b[0m msdArray \u001b[38;5;241m=\u001b[39m msd[key]\n\u001b[1;32m      5\u001b[0m plt\u001b[38;5;241m.\u001b[39mplot(deltArray,msdArray,\u001b[38;5;124m'\u001b[39m\u001b[38;5;124mb-o\u001b[39m\u001b[38;5;124m'\u001b[39m,label\u001b[38;5;241m=\u001b[39m\u001b[38;5;124m'\u001b[39m\u001b[38;5;124mnumerical\u001b[39m\u001b[38;5;124m'\u001b[39m)\n",
      "\u001b[0;31mKeyError\u001b[0m: '0.9'"
     ]
    }
   ],
   "source": [
    "key = '0.9'\n",
    "\n",
    "deltArray = delt[key]\n",
    "msdArray = msd[key]\n",
    "plt.plot(deltArray,msdArray,'b-o',label='numerical')\n",
    "v0=1 #this is 'speed'; i.e. v0 * dt = a, with a the step length\n",
    "# setting a=1 and dt=1 gives v0=1\n",
    "pBias = float(key)\n",
    "#tau = 1/(1-pBias)   #np.exp(1-pBias)\n",
    "tau = 1/(-np.log(2*pBias-1))\n",
    "D = v0**2 * tau\n",
    "print('tau=',tau)\n",
    "plt.plot(deltArray, R2RW(deltArray, dims, D, tau),'r-x',label='theory')\n",
    "         \n",
    "\n",
    "plt.title(r'$p_\\mathrm{{bias}}={pB:s}$'.format(pB=key))\n",
    "\n",
    "plt.xlabel(r'time, t / $t_0$')\n",
    "plt.ylabel(r'$r^2(t)/\\sigma^2$')\n",
    "plt.xlim(0,50)\n",
    "plt.ylim(0,500)\n",
    "#ax=plt.gca()\n",
    "#ax.set_ylim(top=20)\n",
    "#plt.ylim(0,3)\n",
    "plt.legend();\n",
    "#plt.savefig('MSD_for_random_walk.pdf')\n",
    "\n"
   ]
  },
  {
   "cell_type": "code",
   "execution_count": null,
   "metadata": {},
   "outputs": [],
   "source": []
  },
  {
   "cell_type": "code",
   "execution_count": null,
   "metadata": {
    "tags": []
   },
   "outputs": [
    {
     "name": "stdout",
     "output_type": "stream",
     "text": [
      "tau= 1.0\n"
     ]
    },
    {
     "data": {
      "image/png": "[encoded data removed]",
      "text/plain": [
       "<Figure size 640x480 with 1 Axes>"
      ]
     },
     "metadata": {},
     "output_type": "display_data"
    }
   ],
   "source": [
    "key = '1.0'\n",
    "\n",
    "deltArray = delt[key]\n",
    "msdArray = msd[key]\n",
    "plt.plot(deltArray,msdArray,'b-o',label='numerical')\n",
    "v0=1\n",
    "pBias = float(key)\n",
    "#tau = 1/(1-pBias)  #np.exp(1-pBias)\n",
    "tau = np.exp((1-pBias))\n",
    "print('tau=',tau)\n",
    "plt.plot(deltArray, R2Ballistic(deltArray, dims, v0),'r-x',label='theory')\n",
    "         \n",
    "\n",
    "plt.title(r'$p_\\mathrm{{bias}}={pB:s}$'.format(pB=key))\n",
    "\n",
    "plt.xlabel(r'time, t / $t_0$')\n",
    "plt.ylabel(r'$r^2(t)/\\sigma^2$')\n",
    "plt.xlim(0,10)\n",
    "plt.ylim(0,500)\n",
    "#ax=plt.gca()\n",
    "#ax.set_ylim(top=20)\n",
    "#plt.ylim(0,3)\n",
    "plt.legend();\n",
    "#plt.savefig('MSD_for_random_walk.pdf')\n",
    "\n"
   ]
  },
  {
   "cell_type": "code",
   "execution_count": null,
   "metadata": {},
   "outputs": [],
   "source": []
  }
 ],
 "metadata": {
  "kernelspec": {
   "display_name": "QBIO110",
   "language": "python",
   "name": "python3"
  },
  "language_info": {
   "codemirror_mode": {
    "name": "ipython",
    "version": 3
   },
   "file_extension": ".py",
   "mimetype": "text/x-python",
   "name": "python",
   "nbconvert_exporter": "python",
   "pygments_lexer": "ipython3",
   "version": "3.13.5"
  }
 },
 "nbformat": 4,
 "nbformat_minor": 4
}
